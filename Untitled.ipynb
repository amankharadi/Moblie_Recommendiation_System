{
 "cells": [
  {
   "cell_type": "code",
   "execution_count": 1,
   "id": "78ec77ce",
   "metadata": {},
   "outputs": [],
   "source": [
    "import numpy as np\n",
    "import matplotlib.pyplot as plt \n",
    "import pandas as pd\n",
    "import warnings\n",
    "import seaborn as sns\n",
    "warnings.filterwarnings('ignore')"
   ]
  },
  {
   "cell_type": "code",
   "execution_count": 2,
   "id": "6744d6a4",
   "metadata": {},
   "outputs": [
    {
     "data": {
      "text/html": [
       "<div>\n",
       "<style scoped>\n",
       "    .dataframe tbody tr th:only-of-type {\n",
       "        vertical-align: middle;\n",
       "    }\n",
       "\n",
       "    .dataframe tbody tr th {\n",
       "        vertical-align: top;\n",
       "    }\n",
       "\n",
       "    .dataframe thead th {\n",
       "        text-align: right;\n",
       "    }\n",
       "</style>\n",
       "<table border=\"1\" class=\"dataframe\">\n",
       "  <thead>\n",
       "    <tr style=\"text-align: right;\">\n",
       "      <th></th>\n",
       "      <th>name</th>\n",
       "      <th>ratings</th>\n",
       "      <th>price</th>\n",
       "      <th>imgURL</th>\n",
       "      <th>corpus</th>\n",
       "    </tr>\n",
       "  </thead>\n",
       "  <tbody>\n",
       "    <tr>\n",
       "      <th>0</th>\n",
       "      <td>REDMI Note 12 Pro 5G (Onyx Black, 128 GB)</td>\n",
       "      <td>4.2</td>\n",
       "      <td>23999</td>\n",
       "      <td>https://rukminim2.flixcart.com/image/312/312/x...</td>\n",
       "      <td>Storage128 GBRAM6  SystemAndroid 12Processor T...</td>\n",
       "    </tr>\n",
       "    <tr>\n",
       "      <th>1</th>\n",
       "      <td>OPPO F11 Pro (Aurora Green, 128 GB)</td>\n",
       "      <td>4.5</td>\n",
       "      <td>₹20,999</td>\n",
       "      <td>https://rukminim2.flixcart.com/image/312/312/k...</td>\n",
       "      <td>Storage128 GBRAM6 GBExpandable Storage256GB  S...</td>\n",
       "    </tr>\n",
       "    <tr>\n",
       "      <th>2</th>\n",
       "      <td>REDMI Note 11 (Starburst White, 64 GB)</td>\n",
       "      <td>4.2</td>\n",
       "      <td>13149</td>\n",
       "      <td>https://rukminim2.flixcart.com/image/312/312/x...</td>\n",
       "      <td>Storage64 GBRAM4  SystemAndroid 11Processor Sp...</td>\n",
       "    </tr>\n",
       "    <tr>\n",
       "      <th>3</th>\n",
       "      <td>OnePlus Nord CE 5G (Blue Void, 256 GB)</td>\n",
       "      <td>4.1</td>\n",
       "      <td>21999</td>\n",
       "      <td>https://rukminim2.flixcart.com/image/312/312/x...</td>\n",
       "      <td>Storage256 GBRAM12  SystemAndroid Q 11Processo...</td>\n",
       "    </tr>\n",
       "    <tr>\n",
       "      <th>4</th>\n",
       "      <td>APPLE iPhone 13 mini (Blue, 128 GB)</td>\n",
       "      <td>4.6</td>\n",
       "      <td>3537</td>\n",
       "      <td>https://rukminim2.flixcart.com/image/312/312/k...</td>\n",
       "      <td>Storage128  SystemiOS 15Processor TypeA15 Bion...</td>\n",
       "    </tr>\n",
       "  </tbody>\n",
       "</table>\n",
       "</div>"
      ],
      "text/plain": [
       "                                        name  ratings    price  \\\n",
       "0  REDMI Note 12 Pro 5G (Onyx Black, 128 GB)      4.2    23999   \n",
       "1        OPPO F11 Pro (Aurora Green, 128 GB)      4.5  ₹20,999   \n",
       "2     REDMI Note 11 (Starburst White, 64 GB)      4.2    13149   \n",
       "3     OnePlus Nord CE 5G (Blue Void, 256 GB)      4.1    21999   \n",
       "4        APPLE iPhone 13 mini (Blue, 128 GB)      4.6     3537   \n",
       "\n",
       "                                              imgURL  \\\n",
       "0  https://rukminim2.flixcart.com/image/312/312/x...   \n",
       "1  https://rukminim2.flixcart.com/image/312/312/k...   \n",
       "2  https://rukminim2.flixcart.com/image/312/312/x...   \n",
       "3  https://rukminim2.flixcart.com/image/312/312/x...   \n",
       "4  https://rukminim2.flixcart.com/image/312/312/k...   \n",
       "\n",
       "                                              corpus  \n",
       "0  Storage128 GBRAM6  SystemAndroid 12Processor T...  \n",
       "1  Storage128 GBRAM6 GBExpandable Storage256GB  S...  \n",
       "2  Storage64 GBRAM4  SystemAndroid 11Processor Sp...  \n",
       "3  Storage256 GBRAM12  SystemAndroid Q 11Processo...  \n",
       "4  Storage128  SystemiOS 15Processor TypeA15 Bion...  "
      ]
     },
     "execution_count": 2,
     "metadata": {},
     "output_type": "execute_result"
    }
   ],
   "source": [
    "df = pd.read_csv(r'C:\\Users\\Lenovo\\Desktop\\jupyter notebook\\Resume Project\\Mobile Recommendation System\\mobile_recommendation_system_dataset.csv')\n",
    "df.head()"
   ]
  },
  {
   "cell_type": "code",
   "execution_count": 3,
   "id": "15622086",
   "metadata": {},
   "outputs": [
    {
     "data": {
      "text/plain": [
       "(2546, 5)"
      ]
     },
     "execution_count": 3,
     "metadata": {},
     "output_type": "execute_result"
    }
   ],
   "source": [
    "df.shape"
   ]
  },
  {
   "cell_type": "code",
   "execution_count": 4,
   "id": "535ff9de",
   "metadata": {},
   "outputs": [
    {
     "data": {
      "text/plain": [
       "name        0\n",
       "ratings     0\n",
       "price       0\n",
       "imgURL      0\n",
       "corpus     12\n",
       "dtype: int64"
      ]
     },
     "execution_count": 4,
     "metadata": {},
     "output_type": "execute_result"
    }
   ],
   "source": [
    "df.isnull().sum()"
   ]
  },
  {
   "cell_type": "code",
   "execution_count": 5,
   "id": "87abea71",
   "metadata": {},
   "outputs": [
    {
     "data": {
      "text/html": [
       "<div>\n",
       "<style scoped>\n",
       "    .dataframe tbody tr th:only-of-type {\n",
       "        vertical-align: middle;\n",
       "    }\n",
       "\n",
       "    .dataframe tbody tr th {\n",
       "        vertical-align: top;\n",
       "    }\n",
       "\n",
       "    .dataframe thead th {\n",
       "        text-align: right;\n",
       "    }\n",
       "</style>\n",
       "<table border=\"1\" class=\"dataframe\">\n",
       "  <thead>\n",
       "    <tr style=\"text-align: right;\">\n",
       "      <th></th>\n",
       "      <th>name</th>\n",
       "      <th>ratings</th>\n",
       "      <th>price</th>\n",
       "      <th>imgURL</th>\n",
       "      <th>corpus</th>\n",
       "    </tr>\n",
       "  </thead>\n",
       "  <tbody>\n",
       "    <tr>\n",
       "      <th>0</th>\n",
       "      <td>REDMI Note 12 Pro 5G (Onyx Black, 128 GB)</td>\n",
       "      <td>4.2</td>\n",
       "      <td>23999</td>\n",
       "      <td>https://rukminim2.flixcart.com/image/312/312/x...</td>\n",
       "      <td>Storage128 GBRAM6  SystemAndroid 12Processor T...</td>\n",
       "    </tr>\n",
       "    <tr>\n",
       "      <th>1</th>\n",
       "      <td>OPPO F11 Pro (Aurora Green, 128 GB)</td>\n",
       "      <td>4.5</td>\n",
       "      <td>₹20,999</td>\n",
       "      <td>https://rukminim2.flixcart.com/image/312/312/k...</td>\n",
       "      <td>Storage128 GBRAM6 GBExpandable Storage256GB  S...</td>\n",
       "    </tr>\n",
       "    <tr>\n",
       "      <th>2</th>\n",
       "      <td>REDMI Note 11 (Starburst White, 64 GB)</td>\n",
       "      <td>4.2</td>\n",
       "      <td>13149</td>\n",
       "      <td>https://rukminim2.flixcart.com/image/312/312/x...</td>\n",
       "      <td>Storage64 GBRAM4  SystemAndroid 11Processor Sp...</td>\n",
       "    </tr>\n",
       "    <tr>\n",
       "      <th>3</th>\n",
       "      <td>OnePlus Nord CE 5G (Blue Void, 256 GB)</td>\n",
       "      <td>4.1</td>\n",
       "      <td>21999</td>\n",
       "      <td>https://rukminim2.flixcart.com/image/312/312/x...</td>\n",
       "      <td>Storage256 GBRAM12  SystemAndroid Q 11Processo...</td>\n",
       "    </tr>\n",
       "    <tr>\n",
       "      <th>4</th>\n",
       "      <td>APPLE iPhone 13 mini (Blue, 128 GB)</td>\n",
       "      <td>4.6</td>\n",
       "      <td>3537</td>\n",
       "      <td>https://rukminim2.flixcart.com/image/312/312/k...</td>\n",
       "      <td>Storage128  SystemiOS 15Processor TypeA15 Bion...</td>\n",
       "    </tr>\n",
       "  </tbody>\n",
       "</table>\n",
       "</div>"
      ],
      "text/plain": [
       "                                        name  ratings    price  \\\n",
       "0  REDMI Note 12 Pro 5G (Onyx Black, 128 GB)      4.2    23999   \n",
       "1        OPPO F11 Pro (Aurora Green, 128 GB)      4.5  ₹20,999   \n",
       "2     REDMI Note 11 (Starburst White, 64 GB)      4.2    13149   \n",
       "3     OnePlus Nord CE 5G (Blue Void, 256 GB)      4.1    21999   \n",
       "4        APPLE iPhone 13 mini (Blue, 128 GB)      4.6     3537   \n",
       "\n",
       "                                              imgURL  \\\n",
       "0  https://rukminim2.flixcart.com/image/312/312/x...   \n",
       "1  https://rukminim2.flixcart.com/image/312/312/k...   \n",
       "2  https://rukminim2.flixcart.com/image/312/312/x...   \n",
       "3  https://rukminim2.flixcart.com/image/312/312/x...   \n",
       "4  https://rukminim2.flixcart.com/image/312/312/k...   \n",
       "\n",
       "                                              corpus  \n",
       "0  Storage128 GBRAM6  SystemAndroid 12Processor T...  \n",
       "1  Storage128 GBRAM6 GBExpandable Storage256GB  S...  \n",
       "2  Storage64 GBRAM4  SystemAndroid 11Processor Sp...  \n",
       "3  Storage256 GBRAM12  SystemAndroid Q 11Processo...  \n",
       "4  Storage128  SystemiOS 15Processor TypeA15 Bion...  "
      ]
     },
     "execution_count": 5,
     "metadata": {},
     "output_type": "execute_result"
    }
   ],
   "source": [
    "clean_df =df.dropna()\n",
    "clean_df.head()"
   ]
  },
  {
   "cell_type": "code",
   "execution_count": 6,
   "id": "3d648b5c",
   "metadata": {},
   "outputs": [
    {
     "data": {
      "text/plain": [
       "(2534, 5)"
      ]
     },
     "execution_count": 6,
     "metadata": {},
     "output_type": "execute_result"
    }
   ],
   "source": [
    "clean_df.shape"
   ]
  },
  {
   "cell_type": "code",
   "execution_count": 7,
   "id": "7261e5c8",
   "metadata": {
    "scrolled": true
   },
   "outputs": [
    {
     "data": {
      "text/html": [
       "<div>\n",
       "<style scoped>\n",
       "    .dataframe tbody tr th:only-of-type {\n",
       "        vertical-align: middle;\n",
       "    }\n",
       "\n",
       "    .dataframe tbody tr th {\n",
       "        vertical-align: top;\n",
       "    }\n",
       "\n",
       "    .dataframe thead th {\n",
       "        text-align: right;\n",
       "    }\n",
       "</style>\n",
       "<table border=\"1\" class=\"dataframe\">\n",
       "  <thead>\n",
       "    <tr style=\"text-align: right;\">\n",
       "      <th></th>\n",
       "      <th>name</th>\n",
       "      <th>ratings</th>\n",
       "      <th>price</th>\n",
       "      <th>imgURL</th>\n",
       "      <th>corpus</th>\n",
       "      <th>Storage</th>\n",
       "    </tr>\n",
       "  </thead>\n",
       "  <tbody>\n",
       "    <tr>\n",
       "      <th>0</th>\n",
       "      <td>REDMI Note 12 Pro 5G (Onyx Black, 128 GB)</td>\n",
       "      <td>4.2</td>\n",
       "      <td>23999</td>\n",
       "      <td>https://rukminim2.flixcart.com/image/312/312/x...</td>\n",
       "      <td>Storage128 GBRAM6  SystemAndroid 12Processor T...</td>\n",
       "      <td>128.0</td>\n",
       "    </tr>\n",
       "    <tr>\n",
       "      <th>1</th>\n",
       "      <td>OPPO F11 Pro (Aurora Green, 128 GB)</td>\n",
       "      <td>4.5</td>\n",
       "      <td>₹20,999</td>\n",
       "      <td>https://rukminim2.flixcart.com/image/312/312/k...</td>\n",
       "      <td>Storage128 GBRAM6 GBExpandable Storage256GB  S...</td>\n",
       "      <td>128.0</td>\n",
       "    </tr>\n",
       "  </tbody>\n",
       "</table>\n",
       "</div>"
      ],
      "text/plain": [
       "                                        name  ratings    price  \\\n",
       "0  REDMI Note 12 Pro 5G (Onyx Black, 128 GB)      4.2    23999   \n",
       "1        OPPO F11 Pro (Aurora Green, 128 GB)      4.5  ₹20,999   \n",
       "\n",
       "                                              imgURL  \\\n",
       "0  https://rukminim2.flixcart.com/image/312/312/x...   \n",
       "1  https://rukminim2.flixcart.com/image/312/312/k...   \n",
       "\n",
       "                                              corpus  Storage  \n",
       "0  Storage128 GBRAM6  SystemAndroid 12Processor T...    128.0  \n",
       "1  Storage128 GBRAM6 GBExpandable Storage256GB  S...    128.0  "
      ]
     },
     "execution_count": 7,
     "metadata": {},
     "output_type": "execute_result"
    }
   ],
   "source": [
    "import re\n",
    "\n",
    "def extract_storage(corpus):\n",
    "    match = re.search(r'Storage(\\d+)',corpus)\n",
    "    if match:\n",
    "        return int(match.group(1))\n",
    "    return None\n",
    "\n",
    "clean_df['Storage']  = clean_df['corpus'].apply(extract_storage)\n",
    "clean_df.head(2)"
   ]
  },
  {
   "cell_type": "code",
   "execution_count": 8,
   "id": "2daf962e",
   "metadata": {},
   "outputs": [
    {
     "data": {
      "text/html": [
       "<div>\n",
       "<style scoped>\n",
       "    .dataframe tbody tr th:only-of-type {\n",
       "        vertical-align: middle;\n",
       "    }\n",
       "\n",
       "    .dataframe tbody tr th {\n",
       "        vertical-align: top;\n",
       "    }\n",
       "\n",
       "    .dataframe thead th {\n",
       "        text-align: right;\n",
       "    }\n",
       "</style>\n",
       "<table border=\"1\" class=\"dataframe\">\n",
       "  <thead>\n",
       "    <tr style=\"text-align: right;\">\n",
       "      <th></th>\n",
       "      <th>name</th>\n",
       "      <th>ratings</th>\n",
       "      <th>price</th>\n",
       "      <th>imgURL</th>\n",
       "      <th>corpus</th>\n",
       "      <th>Storage</th>\n",
       "      <th>RAM</th>\n",
       "      <th>System</th>\n",
       "      <th>Processor</th>\n",
       "    </tr>\n",
       "  </thead>\n",
       "  <tbody>\n",
       "    <tr>\n",
       "      <th>0</th>\n",
       "      <td>REDMI Note 12 Pro 5G (Onyx Black, 128 GB)</td>\n",
       "      <td>4.2</td>\n",
       "      <td>23999</td>\n",
       "      <td>https://rukminim2.flixcart.com/image/312/312/x...</td>\n",
       "      <td>Storage128 GBRAM6  SystemAndroid 12Processor T...</td>\n",
       "      <td>128.0</td>\n",
       "      <td>6.0</td>\n",
       "      <td>Android 12</td>\n",
       "      <td>TypeMediatek</td>\n",
       "    </tr>\n",
       "    <tr>\n",
       "      <th>1</th>\n",
       "      <td>OPPO F11 Pro (Aurora Green, 128 GB)</td>\n",
       "      <td>4.5</td>\n",
       "      <td>₹20,999</td>\n",
       "      <td>https://rukminim2.flixcart.com/image/312/312/k...</td>\n",
       "      <td>Storage128 GBRAM6 GBExpandable Storage256GB  S...</td>\n",
       "      <td>128.0</td>\n",
       "      <td>6.0</td>\n",
       "      <td>Android Pie 9.0</td>\n",
       "      <td>TypeMediaTek</td>\n",
       "    </tr>\n",
       "    <tr>\n",
       "      <th>2</th>\n",
       "      <td>REDMI Note 11 (Starburst White, 64 GB)</td>\n",
       "      <td>4.2</td>\n",
       "      <td>13149</td>\n",
       "      <td>https://rukminim2.flixcart.com/image/312/312/x...</td>\n",
       "      <td>Storage64 GBRAM4  SystemAndroid 11Processor Sp...</td>\n",
       "      <td>64.0</td>\n",
       "      <td>4.0</td>\n",
       "      <td>Android 11</td>\n",
       "      <td>Speed2.4</td>\n",
       "    </tr>\n",
       "    <tr>\n",
       "      <th>3</th>\n",
       "      <td>OnePlus Nord CE 5G (Blue Void, 256 GB)</td>\n",
       "      <td>4.1</td>\n",
       "      <td>21999</td>\n",
       "      <td>https://rukminim2.flixcart.com/image/312/312/x...</td>\n",
       "      <td>Storage256 GBRAM12  SystemAndroid Q 11Processo...</td>\n",
       "      <td>256.0</td>\n",
       "      <td>12.0</td>\n",
       "      <td>Android Q 11</td>\n",
       "      <td>TypeQualcomm</td>\n",
       "    </tr>\n",
       "    <tr>\n",
       "      <th>4</th>\n",
       "      <td>APPLE iPhone 13 mini (Blue, 128 GB)</td>\n",
       "      <td>4.6</td>\n",
       "      <td>3537</td>\n",
       "      <td>https://rukminim2.flixcart.com/image/312/312/k...</td>\n",
       "      <td>Storage128  SystemiOS 15Processor TypeA15 Bion...</td>\n",
       "      <td>128.0</td>\n",
       "      <td>NaN</td>\n",
       "      <td>iOS 15</td>\n",
       "      <td>TypeA15</td>\n",
       "    </tr>\n",
       "  </tbody>\n",
       "</table>\n",
       "</div>"
      ],
      "text/plain": [
       "                                        name  ratings    price  \\\n",
       "0  REDMI Note 12 Pro 5G (Onyx Black, 128 GB)      4.2    23999   \n",
       "1        OPPO F11 Pro (Aurora Green, 128 GB)      4.5  ₹20,999   \n",
       "2     REDMI Note 11 (Starburst White, 64 GB)      4.2    13149   \n",
       "3     OnePlus Nord CE 5G (Blue Void, 256 GB)      4.1    21999   \n",
       "4        APPLE iPhone 13 mini (Blue, 128 GB)      4.6     3537   \n",
       "\n",
       "                                              imgURL  \\\n",
       "0  https://rukminim2.flixcart.com/image/312/312/x...   \n",
       "1  https://rukminim2.flixcart.com/image/312/312/k...   \n",
       "2  https://rukminim2.flixcart.com/image/312/312/x...   \n",
       "3  https://rukminim2.flixcart.com/image/312/312/x...   \n",
       "4  https://rukminim2.flixcart.com/image/312/312/k...   \n",
       "\n",
       "                                              corpus  Storage   RAM  \\\n",
       "0  Storage128 GBRAM6  SystemAndroid 12Processor T...    128.0   6.0   \n",
       "1  Storage128 GBRAM6 GBExpandable Storage256GB  S...    128.0   6.0   \n",
       "2  Storage64 GBRAM4  SystemAndroid 11Processor Sp...     64.0   4.0   \n",
       "3  Storage256 GBRAM12  SystemAndroid Q 11Processo...    256.0  12.0   \n",
       "4  Storage128  SystemiOS 15Processor TypeA15 Bion...    128.0   NaN   \n",
       "\n",
       "            System     Processor  \n",
       "0       Android 12  TypeMediatek  \n",
       "1  Android Pie 9.0  TypeMediaTek  \n",
       "2       Android 11      Speed2.4  \n",
       "3     Android Q 11  TypeQualcomm  \n",
       "4           iOS 15       TypeA15  "
      ]
     },
     "execution_count": 8,
     "metadata": {},
     "output_type": "execute_result"
    }
   ],
   "source": [
    "def extract_ram(corpus):\n",
    "    match = re.search(r'RAM(\\d+)',corpus)\n",
    "    if match :\n",
    "        return int(match.group(1))\n",
    "    return None\n",
    "    \n",
    "def extract_system(corpus):\n",
    "    match = re.search(r'System(.*?)Processor',corpus)\n",
    "    if match:\n",
    "        return match.group(1).strip()\n",
    "    return None\n",
    "    \n",
    "def extract_processor(corpus):\n",
    "    match = re.search(r'Processor (.*?) ',corpus)\n",
    "    if match:\n",
    "        return match.group(1).strip()\n",
    "    return None\n",
    "    \n",
    "clean_df['RAM'] = clean_df['corpus'].apply(extract_ram)\n",
    "clean_df['System'] = clean_df['corpus'].apply(extract_system)\n",
    "clean_df['Processor'] = clean_df['corpus'].apply(extract_processor)\n",
    "\n",
    "clean_df.head()"
   ]
  },
  {
   "cell_type": "code",
   "execution_count": 9,
   "id": "7717d742",
   "metadata": {},
   "outputs": [
    {
     "data": {
      "text/plain": [
       "(array(['Android 12', 'Android Pie 9.0', 'Android 11', 'Android Q 11',\n",
       "        'iOS 15', 'iOS 9', 'Android 13', 'Android Pie 9',\n",
       "        'Android Nougat 7', 'Android 10', 'iOS 16', None,\n",
       "        'Android Q Android Q 12.5', 'Android Oreo 8.1',\n",
       "        'Android Marshmallow 6.0.1', 'Android Oreo 8.1.0',\n",
       "        'Android 13 (Go Edition)', 'Android Android 12', 'Android Q 10',\n",
       "        'iOS 14.2', 'Android Pie Android v9.0 (Pie)', 'Android Andriod 11',\n",
       "        'Android Android 10',\n",
       "        'Android HiOS 8.6 based on Android 12-Go Edition',\n",
       "        'Android Nougat 7.1', 'iOS 14', 'Android Android 13', 'iOS 12',\n",
       "        'Android 12 Go', 'iOS 7', 'Android Nougat 7.1.2',\n",
       "        'Android Oreo V11', 'Android ANdroid 13 OxygenOS',\n",
       "        'Android Android 13.0', 'Android Android v12.0',\n",
       "        'Android Android 11', 'Android Pie 10', 'Android Oreo 8.0', 'Q 10',\n",
       "        'Android Q ANDROID 10', 'Android Q 12', 'iOS 13',\n",
       "        'Android Android 11 Go', 'Android 10 (Go Edition)',\n",
       "        'Android Oxygen OxygenOS based on Android 13',\n",
       "        'Series 30 Feature phone', 'Android Lollipop 5.1', 'Android Q 111',\n",
       "        'iOS 8', 'Android Q Android 11',\n",
       "        'Android ?HiOS 12.0 based on Android 12',\n",
       "        'Android Android 11 (Go edition)', 'Android Android 12.0',\n",
       "        'Android Lollipop 5.0.2', 'Android MIUI 13, Android 12.0',\n",
       "        'Android Lollipop Color OS 3.0 based on Android 5.1',\n",
       "        'Android Nougat 7.1.1', 'Android KitKat 4.4.2',\n",
       "        'Android 11 (Go edition)', 'Android Android13', 'Android Q 10.0V',\n",
       "        'Android KitKat 1', 'Android OxygenOS based on Android 13',\n",
       "        'Android KitKat 4.4', 'Android Funtouch OS 12', '1',\n",
       "        'Android Q V11.0', 'Android Android Oxygen Android 12', 'iOS 11',\n",
       "        'Android Oreo 8', 'Android MIUI 14, Android 13.0',\n",
       "        'Android Oxygen 12', 'Android Pie Oxygen',\n",
       "        'Android Lollipop 5.1.1', 'Android Q V10', 'Android Android12',\n",
       "        'Android Q Android', 'Android Oxygen 11', 'Android 12.5',\n",
       "        'Android Q Android Q Android 11', 'Android Q Android 10',\n",
       "        'Android Q Funtouch OS 13 (Based on Android 13)',\n",
       "        'Android Marshmallow 6', 'Android Q Android 13.0',\n",
       "        'Android Q 10.0', 'Android Q ?Android 13.0',\n",
       "        'Android Q Android 12', 'Android Nougat 11',\n",
       "        'Android ANDROID V12.0', 'Android Q Android 11 (Go Edition)',\n",
       "        'Android Q ANDROID 12.0', 'iOS Q HiOS 8.6 based on Android 12',\n",
       "        'Android Jelly Bean 4.2', 'Android 12 (Go Edition)',\n",
       "        'Android Q 13', 'Android Oxygen 12.1',\n",
       "        'Android ColorOS 13.1 on top of Android 13',\n",
       "        'Android Q ColorOS 12.1. 1', 'Android Pie 9 Pie OxygenOS',\n",
       "        'Android Q Android 12, One UI Core 4.1', 'Android',\n",
       "        'Android Q 10.1', 'Android ANDROID 11 GO AUDITION', 'Series 30',\n",
       "        'Android Q Android 12, ColorOS 12.1',\n",
       "        'Android ?MIUI 13, Android 12.0', 'Android Oxygen Android 12',\n",
       "        'Android HiOS 12.0 based on Android 12', 'Android Oxygen 11.3',\n",
       "        'Android Q MIUI 13, Android 12.0', 'Android Q 11.1',\n",
       "        'Android Funtouch OS 11 (Based on Android 11)',\n",
       "        'Android Mediatek Helio P35', 'Android Q Android Q 10',\n",
       "        'Android Android v9.0 Pie', 'Android Pie Oxygen OS',\n",
       "        'Android Q Android 11::ColorOS 12.1', 'Tizen',\n",
       "        'Android 11 (Go Edition)', 'Android Android 13 OxygenOS',\n",
       "        'Android Pie android version 10',\n",
       "        'Android HiOS 12.0 based on Android 13', 'Android Jelly Bean 4.3',\n",
       "        'Android Q Android 11, ColorOS 12.1', 'Android Oreo 10',\n",
       "        'Android KitKat 4.4.4', 'Android MIUI 12, Android 11.0',\n",
       "        'iOS Q ?HiOS 8.6 based on Android 12'], dtype=object),\n",
       " array(['TypeMediatek', 'TypeMediaTek', 'Speed2.4', 'TypeQualcomm',\n",
       "        'TypeA15', 'TypeA9', None, 'Speed2', 'TypeMTK', 'Speed3.19',\n",
       "        'TypeDimensity', 'TypeUnisoc', 'Speed2.3', 'TypeA12', 'TypeA16',\n",
       "        'Speed0.1', 'TypeExynos', 'TypeHelio', 'Speed2.84',\n",
       "        'TypeMT6763TProcessor', 'Speed1.8', 'TypeA14', 'Speed2.2',\n",
       "        'TypeA13', 'Speed2.9', 'TypeA6', 'Speed3.05', 'TypeApple',\n",
       "        'TypeSnapdragon', 'TypeQualcomm®', 'TypeA11', 'Speed2.99',\n",
       "        'TypeA10', 'Speed3.2', 'Speed208', 'TypeMeditek', 'TypeA8',\n",
       "        'TypeSamsung', 'TypeG37Processor', 'Speed1.6', 'TypeOcta',\n",
       "        'Type2nd-gen', 'TypeT612Processor', 'Typequalcomm',\n",
       "        'TypeOcta-coreProcessor', 'Speed1.2', 'TypeSpreadtrum',\n",
       "        'TypeUNISOC', 'TypeSEC', 'TypeMTK6739', 'TypeSDM710Processor',\n",
       "        'Speed3', 'TypeNA', 'Speed2.05', 'Speed2.42', 'Speed2.8',\n",
       "        'TypeUniSoc', 'Type1.6', 'Type2.0', 'Type7nm', 'Speed2.73',\n",
       "        'Speed90', 'TypeMediateckProcessor', 'Speed900', 'Speed120',\n",
       "        'Speed2.7', 'Speed1.3', 'Speed1600', 'TypeEOLProcessor',\n",
       "        'TypeNAProcessor', 'TypeTurbo', 'TypeSDM439Processor', 'Speed1.5',\n",
       "        'Type2?GHz,', 'TypeMT6762', 'Speed1.9'], dtype=object))"
      ]
     },
     "execution_count": 9,
     "metadata": {},
     "output_type": "execute_result"
    }
   ],
   "source": [
    "unique_system = clean_df['System'].unique()\n",
    "unique_processor = clean_df['Processor'].unique()\n",
    "\n",
    "unique_system,unique_processor"
   ]
  },
  {
   "cell_type": "code",
   "execution_count": 10,
   "id": "ec101217",
   "metadata": {},
   "outputs": [
    {
     "data": {
      "text/plain": [
       "array(['android', 'iOS', None, 'Q 10', 'Series 30 Feature phone', '1',\n",
       "       'Series 30', 'Tizen'], dtype=object)"
      ]
     },
     "execution_count": 10,
     "metadata": {},
     "output_type": "execute_result"
    }
   ],
   "source": [
    "def clean_system(system):\n",
    "    if pd.isnull(system):\n",
    "        return None\n",
    "    if 'android' in system.lower():\n",
    "        return 'android'\n",
    "    if 'ios' in system.lower():\n",
    "        return 'iOS'\n",
    "    if 'tizen' in system.lower():\n",
    "        return 'Tizen'\n",
    "    return system\n",
    "\n",
    "clean_df['System'] = clean_df['System'].apply(clean_system)\n",
    "\n",
    "unique_system_clean = clean_df['System'].unique()\n",
    "unique_system_clean\n"
   ]
  },
  {
   "cell_type": "code",
   "execution_count": 11,
   "id": "82ec8436",
   "metadata": {},
   "outputs": [
    {
     "data": {
      "text/plain": [
       "array(['Mediatek', 'other', 'Qualcomm', None, 'Apple'], dtype=object)"
      ]
     },
     "execution_count": 11,
     "metadata": {},
     "output_type": "execute_result"
    }
   ],
   "source": [
    "def clean_processor(processor):\n",
    "    if pd.isnull(processor):\n",
    "        return None\n",
    "    if 'mediatek' in processor.lower():\n",
    "        return 'Mediatek'\n",
    "    if 'qualcomm' in processor.lower():\n",
    "        return 'Qualcomm'\n",
    "    if 'apple' in processor.lower():\n",
    "        return 'Apple'\n",
    "    return 'other'\n",
    "\n",
    "clean_df['Processor'] = clean_df['Processor'].apply(clean_processor)\n",
    "\n",
    "clean_processor_unique = clean_df['Processor'].unique()\n",
    "clean_processor_unique"
   ]
  },
  {
   "cell_type": "code",
   "execution_count": 12,
   "id": "194884e1",
   "metadata": {},
   "outputs": [
    {
     "data": {
      "image/png": "[encoded data removed]",
      "text/plain": [
       "<Figure size 1080x720 with 1 Axes>"
      ]
     },
     "metadata": {
      "needs_background": "light"
     },
     "output_type": "display_data"
    }
   ],
   "source": [
    "plt.figure(figsize=(15,10))\n",
    "plt.hist(clean_df['Storage'],bins=20,edgecolor='black')\n",
    "plt.title('Distribution of Storage')\n",
    "plt.xlabel('Stroge (GB)')\n",
    "plt.ylabel('Count')\n",
    "plt.show()"
   ]
  },
  {
   "cell_type": "code",
   "execution_count": 13,
   "id": "10bfe141",
   "metadata": {},
   "outputs": [
    {
     "data": {
      "text/plain": [
       "name           0\n",
       "ratings        0\n",
       "price          0\n",
       "imgURL         0\n",
       "corpus         0\n",
       "Storage        6\n",
       "RAM          394\n",
       "System        65\n",
       "Processor     65\n",
       "dtype: int64"
      ]
     },
     "execution_count": 13,
     "metadata": {},
     "output_type": "execute_result"
    }
   ],
   "source": [
    "clean_df.isnull().sum()"
   ]
  },
  {
   "cell_type": "code",
   "execution_count": 14,
   "id": "59cf298b",
   "metadata": {},
   "outputs": [
    {
     "data": {
      "image/png": "[encoded data removed]",
      "text/plain": [
       "<Figure size 1080x720 with 1 Axes>"
      ]
     },
     "metadata": {
      "needs_background": "light"
     },
     "output_type": "display_data"
    }
   ],
   "source": [
    "plt.figure(figsize=(15,10))\n",
    "plt.hist(clean_df['RAM'].dropna(),bins=20,edgecolor ='black')\n",
    "plt.title('Distribution of RAM')\n",
    "plt.xlabel('RAM')\n",
    "plt.ylabel('Count')\n",
    "plt.show()"
   ]
  },
  {
   "cell_type": "code",
   "execution_count": 15,
   "id": "6b77f4f5",
   "metadata": {},
   "outputs": [
    {
     "data": {
      "image/png": "[encoded data removed]",
      "text/plain": [
       "<Figure size 1080x720 with 1 Axes>"
      ]
     },
     "metadata": {
      "needs_background": "light"
     },
     "output_type": "display_data"
    }
   ],
   "source": [
    "plt.figure(figsize=(15,10))\n",
    "clean_df['System'].value_counts().plot(kind='bar')\n",
    "plt.title('Distribution of System')\n",
    "plt.xlabel('System')\n",
    "plt.ylabel('Count')\n",
    "plt.show()"
   ]
  },
  {
   "cell_type": "code",
   "execution_count": 16,
   "id": "5278ea64",
   "metadata": {},
   "outputs": [
    {
     "data": {
      "image/png": "[encoded data removed]",
      "text/plain": [
       "<Figure size 1080x720 with 1 Axes>"
      ]
     },
     "metadata": {
      "needs_background": "light"
     },
     "output_type": "display_data"
    }
   ],
   "source": [
    "plt.figure(figsize=(15,10))\n",
    "clean_df['Processor'].value_counts().plot(kind='bar')\n",
    "plt.title('Distribution of Processor')\n",
    "plt.xlabel('Processor')\n",
    "plt.ylabel('Count')\n",
    "plt.show()"
   ]
  },
  {
   "cell_type": "code",
   "execution_count": 17,
   "id": "c0888091",
   "metadata": {},
   "outputs": [
    {
     "data": {
      "text/html": [
       "<div>\n",
       "<style scoped>\n",
       "    .dataframe tbody tr th:only-of-type {\n",
       "        vertical-align: middle;\n",
       "    }\n",
       "\n",
       "    .dataframe tbody tr th {\n",
       "        vertical-align: top;\n",
       "    }\n",
       "\n",
       "    .dataframe thead th {\n",
       "        text-align: right;\n",
       "    }\n",
       "</style>\n",
       "<table border=\"1\" class=\"dataframe\">\n",
       "  <thead>\n",
       "    <tr style=\"text-align: right;\">\n",
       "      <th></th>\n",
       "      <th>name</th>\n",
       "      <th>ratings</th>\n",
       "      <th>price</th>\n",
       "      <th>imgURL</th>\n",
       "      <th>corpus</th>\n",
       "      <th>Storage</th>\n",
       "      <th>RAM</th>\n",
       "      <th>System</th>\n",
       "      <th>Processor</th>\n",
       "    </tr>\n",
       "  </thead>\n",
       "  <tbody>\n",
       "    <tr>\n",
       "      <th>0</th>\n",
       "      <td>REDMI Note 12 Pro 5G (Onyx Black, 128 GB)</td>\n",
       "      <td>4.2</td>\n",
       "      <td>23999</td>\n",
       "      <td>https://rukminim2.flixcart.com/image/312/312/x...</td>\n",
       "      <td>Storage128 GBRAM6  SystemAndroid 12Processor T...</td>\n",
       "      <td>128.0</td>\n",
       "      <td>6.0</td>\n",
       "      <td>android</td>\n",
       "      <td>Mediatek</td>\n",
       "    </tr>\n",
       "    <tr>\n",
       "      <th>1</th>\n",
       "      <td>OPPO F11 Pro (Aurora Green, 128 GB)</td>\n",
       "      <td>4.5</td>\n",
       "      <td>20999</td>\n",
       "      <td>https://rukminim2.flixcart.com/image/312/312/k...</td>\n",
       "      <td>Storage128 GBRAM6 GBExpandable Storage256GB  S...</td>\n",
       "      <td>128.0</td>\n",
       "      <td>6.0</td>\n",
       "      <td>android</td>\n",
       "      <td>Mediatek</td>\n",
       "    </tr>\n",
       "    <tr>\n",
       "      <th>2</th>\n",
       "      <td>REDMI Note 11 (Starburst White, 64 GB)</td>\n",
       "      <td>4.2</td>\n",
       "      <td>13149</td>\n",
       "      <td>https://rukminim2.flixcart.com/image/312/312/x...</td>\n",
       "      <td>Storage64 GBRAM4  SystemAndroid 11Processor Sp...</td>\n",
       "      <td>64.0</td>\n",
       "      <td>4.0</td>\n",
       "      <td>android</td>\n",
       "      <td>other</td>\n",
       "    </tr>\n",
       "    <tr>\n",
       "      <th>3</th>\n",
       "      <td>OnePlus Nord CE 5G (Blue Void, 256 GB)</td>\n",
       "      <td>4.1</td>\n",
       "      <td>21999</td>\n",
       "      <td>https://rukminim2.flixcart.com/image/312/312/x...</td>\n",
       "      <td>Storage256 GBRAM12  SystemAndroid Q 11Processo...</td>\n",
       "      <td>256.0</td>\n",
       "      <td>12.0</td>\n",
       "      <td>android</td>\n",
       "      <td>Qualcomm</td>\n",
       "    </tr>\n",
       "    <tr>\n",
       "      <th>4</th>\n",
       "      <td>APPLE iPhone 13 mini (Blue, 128 GB)</td>\n",
       "      <td>4.6</td>\n",
       "      <td>3537</td>\n",
       "      <td>https://rukminim2.flixcart.com/image/312/312/k...</td>\n",
       "      <td>Storage128  SystemiOS 15Processor TypeA15 Bion...</td>\n",
       "      <td>128.0</td>\n",
       "      <td>NaN</td>\n",
       "      <td>iOS</td>\n",
       "      <td>other</td>\n",
       "    </tr>\n",
       "  </tbody>\n",
       "</table>\n",
       "</div>"
      ],
      "text/plain": [
       "                                        name  ratings  price  \\\n",
       "0  REDMI Note 12 Pro 5G (Onyx Black, 128 GB)      4.2  23999   \n",
       "1        OPPO F11 Pro (Aurora Green, 128 GB)      4.5  20999   \n",
       "2     REDMI Note 11 (Starburst White, 64 GB)      4.2  13149   \n",
       "3     OnePlus Nord CE 5G (Blue Void, 256 GB)      4.1  21999   \n",
       "4        APPLE iPhone 13 mini (Blue, 128 GB)      4.6   3537   \n",
       "\n",
       "                                              imgURL  \\\n",
       "0  https://rukminim2.flixcart.com/image/312/312/x...   \n",
       "1  https://rukminim2.flixcart.com/image/312/312/k...   \n",
       "2  https://rukminim2.flixcart.com/image/312/312/x...   \n",
       "3  https://rukminim2.flixcart.com/image/312/312/x...   \n",
       "4  https://rukminim2.flixcart.com/image/312/312/k...   \n",
       "\n",
       "                                              corpus  Storage   RAM   System  \\\n",
       "0  Storage128 GBRAM6  SystemAndroid 12Processor T...    128.0   6.0  android   \n",
       "1  Storage128 GBRAM6 GBExpandable Storage256GB  S...    128.0   6.0  android   \n",
       "2  Storage64 GBRAM4  SystemAndroid 11Processor Sp...     64.0   4.0  android   \n",
       "3  Storage256 GBRAM12  SystemAndroid Q 11Processo...    256.0  12.0  android   \n",
       "4  Storage128  SystemiOS 15Processor TypeA15 Bion...    128.0   NaN      iOS   \n",
       "\n",
       "  Processor  \n",
       "0  Mediatek  \n",
       "1  Mediatek  \n",
       "2     other  \n",
       "3  Qualcomm  \n",
       "4     other  "
      ]
     },
     "execution_count": 17,
     "metadata": {},
     "output_type": "execute_result"
    }
   ],
   "source": [
    "def clean_price(price):\n",
    "    cleaned_price = re.sub(r'\\D', '', price)\n",
    "    \n",
    "    try:\n",
    "        return int(cleaned_price)\n",
    "    except ValueError:\n",
    "        return None\n",
    "\n",
    "clean_df['price'] = clean_df['price'].apply(clean_price)\n",
    "\n",
    "clean_df.head()"
   ]
  },
  {
   "cell_type": "code",
   "execution_count": 18,
   "id": "e10f46f6",
   "metadata": {},
   "outputs": [
    {
     "data": {
      "image/png": "[encoded data removed]",
      "text/plain": [
       "<Figure size 720x432 with 1 Axes>"
      ]
     },
     "metadata": {
      "needs_background": "light"
     },
     "output_type": "display_data"
    },
    {
     "data": {
      "text/plain": [
       "0.27088522618019123"
      ]
     },
     "execution_count": 18,
     "metadata": {},
     "output_type": "execute_result"
    }
   ],
   "source": [
    "plt.figure(figsize=(10,6))\n",
    "plt.scatter(clean_df['Storage'],clean_df['price'])\n",
    "plt.title('price vs storage')\n",
    "plt.xlabel('storage')\n",
    "plt.ylabel('price')\n",
    "plt.show()\n",
    "\n",
    "corrleation = clean_df['price'].corr(clean_df['Storage'])\n",
    "corrleation"
   ]
  },
  {
   "cell_type": "code",
   "execution_count": 19,
   "id": "18e01dfc",
   "metadata": {},
   "outputs": [
    {
     "data": {
      "image/png": "[encoded data removed]",
      "text/plain": [
       "<Figure size 720x432 with 1 Axes>"
      ]
     },
     "metadata": {
      "needs_background": "light"
     },
     "output_type": "display_data"
    },
    {
     "data": {
      "text/plain": [
       "0.029167178591028346"
      ]
     },
     "execution_count": 19,
     "metadata": {},
     "output_type": "execute_result"
    }
   ],
   "source": [
    "plt.figure(figsize=(10,6))\n",
    "plt.scatter(clean_df['RAM'],clean_df['price'])\n",
    "plt.title('price vs RAM')\n",
    "plt.xlabel('RAM')\n",
    "plt.ylabel('price')\n",
    "plt.show()\n",
    "\n",
    "corrleation = clean_df['price'].corr(clean_df['RAM'])\n",
    "corrleation"
   ]
  },
  {
   "cell_type": "code",
   "execution_count": 20,
   "id": "ee5e35a8",
   "metadata": {},
   "outputs": [
    {
     "data": {
      "image/png": "[encoded data removed]",
      "text/plain": [
       "<Figure size 720x432 with 1 Axes>"
      ]
     },
     "metadata": {
      "needs_background": "light"
     },
     "output_type": "display_data"
    }
   ],
   "source": [
    "plt.figure(figsize=(10,6))\n",
    "avg_price_system = clean_df.groupby('System')['price'].mean()\n",
    "\n",
    "avg_price_system.plot(kind='bar')\n",
    "plt.title('average price of system')\n",
    "plt.xlabel('sytem')\n",
    "plt.ylabel('price')\n",
    "plt.show()\n",
    "\n"
   ]
  },
  {
   "cell_type": "code",
   "execution_count": 21,
   "id": "b2e1f520",
   "metadata": {
    "scrolled": true
   },
   "outputs": [
    {
     "data": {
      "image/png": "[encoded data removed]",
      "text/plain": [
       "<Figure size 720x432 with 1 Axes>"
      ]
     },
     "metadata": {
      "needs_background": "light"
     },
     "output_type": "display_data"
    }
   ],
   "source": [
    "plt.figure(figsize=(10,6))\n",
    "avg_price_system = clean_df.groupby('Processor')['price'].mean()\n",
    "\n",
    "avg_price_system.plot(kind='bar')\n",
    "plt.title('average price of Processor')\n",
    "plt.xlabel('Processor')\n",
    "plt.ylabel('price')\n",
    "plt.show()"
   ]
  },
  {
   "cell_type": "code",
   "execution_count": 22,
   "id": "06d67ab5",
   "metadata": {},
   "outputs": [],
   "source": [
    "def scatter_plot(cols):\n",
    "    x=1\n",
    "    plt.figure(figsize=(15,6))\n",
    "    for col in cols:\n",
    "        plt.subplot(1,3,x)\n",
    "        sns.scatterplot(x=col,y='ratings',data=clean_df)\n",
    "        plt.title(f'{col} vs ratings')\n",
    "        x+=1\n",
    "        "
   ]
  },
  {
   "cell_type": "code",
   "execution_count": 23,
   "id": "c56c63d6",
   "metadata": {},
   "outputs": [
    {
     "data": {
      "image/png": "[encoded data removed]",
      "text/plain": [
       "<Figure size 1080x432 with 3 Axes>"
      ]
     },
     "metadata": {
      "needs_background": "light"
     },
     "output_type": "display_data"
    }
   ],
   "source": [
    "scatter_plot(['System','Processor','RAM'])"
   ]
  },
  {
   "cell_type": "code",
   "execution_count": 24,
   "id": "45242b96",
   "metadata": {},
   "outputs": [],
   "source": [
    "def average_rating(cols):\n",
    "    \n",
    "    avg_rating = clean_df.groupby(cols)['ratings'].mean()\n",
    "    plt.figure(figsize=(10,6))\n",
    "    avg_rating.plot(kind='bar')\n",
    "    plt.title('average rating by 'f'{cols}')\n",
    "    plt.xlabel(f'{cols}')\n",
    "    plt.ylabel('rating')\n",
    "    plt.show()"
   ]
  },
  {
   "cell_type": "code",
   "execution_count": 25,
   "id": "3bac3e48",
   "metadata": {},
   "outputs": [
    {
     "data": {
      "image/png": "[encoded data removed]",
      "text/plain": [
       "<Figure size 720x432 with 1 Axes>"
      ]
     },
     "metadata": {
      "needs_background": "light"
     },
     "output_type": "display_data"
    }
   ],
   "source": [
    "average_rating('Processor')"
   ]
  },
  {
   "cell_type": "code",
   "execution_count": 26,
   "id": "f4578365",
   "metadata": {},
   "outputs": [
    {
     "data": {
      "image/png": "[encoded data removed]",
      "text/plain": [
       "<Figure size 720x432 with 1 Axes>"
      ]
     },
     "metadata": {
      "needs_background": "light"
     },
     "output_type": "display_data"
    }
   ],
   "source": [
    "average_rating('System')"
   ]
  },
  {
   "cell_type": "code",
   "execution_count": 33,
   "id": "efd5dd7c",
   "metadata": {},
   "outputs": [
    {
     "data": {
      "text/html": [
       "<div>\n",
       "<style scoped>\n",
       "    .dataframe tbody tr th:only-of-type {\n",
       "        vertical-align: middle;\n",
       "    }\n",
       "\n",
       "    .dataframe tbody tr th {\n",
       "        vertical-align: top;\n",
       "    }\n",
       "\n",
       "    .dataframe thead th {\n",
       "        text-align: right;\n",
       "    }\n",
       "</style>\n",
       "<table border=\"1\" class=\"dataframe\">\n",
       "  <thead>\n",
       "    <tr style=\"text-align: right;\">\n",
       "      <th></th>\n",
       "      <th>name</th>\n",
       "      <th>ratings</th>\n",
       "      <th>price</th>\n",
       "      <th>imgURL</th>\n",
       "      <th>corpus</th>\n",
       "      <th>Storage</th>\n",
       "      <th>RAM</th>\n",
       "      <th>System</th>\n",
       "      <th>Processor</th>\n",
       "      <th>Brans</th>\n",
       "      <th>Brands</th>\n",
       "    </tr>\n",
       "  </thead>\n",
       "  <tbody>\n",
       "    <tr>\n",
       "      <th>0</th>\n",
       "      <td>REDMI Note 12 Pro 5G (Onyx Black, 128 GB)</td>\n",
       "      <td>4.2</td>\n",
       "      <td>23999</td>\n",
       "      <td>https://rukminim2.flixcart.com/image/312/312/x...</td>\n",
       "      <td>Storage128 GBRAM6  SystemAndroid 12Processor T...</td>\n",
       "      <td>128.0</td>\n",
       "      <td>6.0</td>\n",
       "      <td>android</td>\n",
       "      <td>Mediatek</td>\n",
       "      <td>REDMI</td>\n",
       "      <td>REDMI</td>\n",
       "    </tr>\n",
       "    <tr>\n",
       "      <th>1</th>\n",
       "      <td>OPPO F11 Pro (Aurora Green, 128 GB)</td>\n",
       "      <td>4.5</td>\n",
       "      <td>20999</td>\n",
       "      <td>https://rukminim2.flixcart.com/image/312/312/k...</td>\n",
       "      <td>Storage128 GBRAM6 GBExpandable Storage256GB  S...</td>\n",
       "      <td>128.0</td>\n",
       "      <td>6.0</td>\n",
       "      <td>android</td>\n",
       "      <td>Mediatek</td>\n",
       "      <td>OPPO</td>\n",
       "      <td>OPPO</td>\n",
       "    </tr>\n",
       "    <tr>\n",
       "      <th>2</th>\n",
       "      <td>REDMI Note 11 (Starburst White, 64 GB)</td>\n",
       "      <td>4.2</td>\n",
       "      <td>13149</td>\n",
       "      <td>https://rukminim2.flixcart.com/image/312/312/x...</td>\n",
       "      <td>Storage64 GBRAM4  SystemAndroid 11Processor Sp...</td>\n",
       "      <td>64.0</td>\n",
       "      <td>4.0</td>\n",
       "      <td>android</td>\n",
       "      <td>other</td>\n",
       "      <td>REDMI</td>\n",
       "      <td>REDMI</td>\n",
       "    </tr>\n",
       "    <tr>\n",
       "      <th>3</th>\n",
       "      <td>OnePlus Nord CE 5G (Blue Void, 256 GB)</td>\n",
       "      <td>4.1</td>\n",
       "      <td>21999</td>\n",
       "      <td>https://rukminim2.flixcart.com/image/312/312/x...</td>\n",
       "      <td>Storage256 GBRAM12  SystemAndroid Q 11Processo...</td>\n",
       "      <td>256.0</td>\n",
       "      <td>12.0</td>\n",
       "      <td>android</td>\n",
       "      <td>Qualcomm</td>\n",
       "      <td>OnePlus</td>\n",
       "      <td>OnePlus</td>\n",
       "    </tr>\n",
       "    <tr>\n",
       "      <th>4</th>\n",
       "      <td>APPLE iPhone 13 mini (Blue, 128 GB)</td>\n",
       "      <td>4.6</td>\n",
       "      <td>3537</td>\n",
       "      <td>https://rukminim2.flixcart.com/image/312/312/k...</td>\n",
       "      <td>Storage128  SystemiOS 15Processor TypeA15 Bion...</td>\n",
       "      <td>128.0</td>\n",
       "      <td>NaN</td>\n",
       "      <td>iOS</td>\n",
       "      <td>other</td>\n",
       "      <td>APPLE</td>\n",
       "      <td>APPLE</td>\n",
       "    </tr>\n",
       "  </tbody>\n",
       "</table>\n",
       "</div>"
      ],
      "text/plain": [
       "                                        name  ratings  price  \\\n",
       "0  REDMI Note 12 Pro 5G (Onyx Black, 128 GB)      4.2  23999   \n",
       "1        OPPO F11 Pro (Aurora Green, 128 GB)      4.5  20999   \n",
       "2     REDMI Note 11 (Starburst White, 64 GB)      4.2  13149   \n",
       "3     OnePlus Nord CE 5G (Blue Void, 256 GB)      4.1  21999   \n",
       "4        APPLE iPhone 13 mini (Blue, 128 GB)      4.6   3537   \n",
       "\n",
       "                                              imgURL  \\\n",
       "0  https://rukminim2.flixcart.com/image/312/312/x...   \n",
       "1  https://rukminim2.flixcart.com/image/312/312/k...   \n",
       "2  https://rukminim2.flixcart.com/image/312/312/x...   \n",
       "3  https://rukminim2.flixcart.com/image/312/312/x...   \n",
       "4  https://rukminim2.flixcart.com/image/312/312/k...   \n",
       "\n",
       "                                              corpus  Storage   RAM   System  \\\n",
       "0  Storage128 GBRAM6  SystemAndroid 12Processor T...    128.0   6.0  android   \n",
       "1  Storage128 GBRAM6 GBExpandable Storage256GB  S...    128.0   6.0  android   \n",
       "2  Storage64 GBRAM4  SystemAndroid 11Processor Sp...     64.0   4.0  android   \n",
       "3  Storage256 GBRAM12  SystemAndroid Q 11Processo...    256.0  12.0  android   \n",
       "4  Storage128  SystemiOS 15Processor TypeA15 Bion...    128.0   NaN      iOS   \n",
       "\n",
       "  Processor    Brans   Brands  \n",
       "0  Mediatek    REDMI    REDMI  \n",
       "1  Mediatek     OPPO     OPPO  \n",
       "2     other    REDMI    REDMI  \n",
       "3  Qualcomm  OnePlus  OnePlus  \n",
       "4     other    APPLE    APPLE  "
      ]
     },
     "execution_count": 33,
     "metadata": {},
     "output_type": "execute_result"
    }
   ],
   "source": [
    "def extract_brand(name):\n",
    "    return name.split()[0]\n",
    "\n",
    "clean_df['Brands'] = clean_df['name'].apply(extract_brand)\n",
    "clean_df.head()"
   ]
  },
  {
   "cell_type": "code",
   "execution_count": 30,
   "id": "d2047b4b",
   "metadata": {},
   "outputs": [
    {
     "data": {
      "image/png": "[encoded data removed]",
      "text/plain": [
       "<Figure size 720x432 with 1 Axes>"
      ]
     },
     "metadata": {
      "needs_background": "light"
     },
     "output_type": "display_data"
    }
   ],
   "source": [
    "plt.figure(figsize=(10,6))\n",
    "clean_df['Brans'].value_counts().plot(kind='bar')\n",
    "plt.title('Distribution of brands')\n",
    "plt.xlabel('Brand')\n",
    "plt.ylabel('count')\n",
    "plt.show()"
   ]
  },
  {
   "cell_type": "code",
   "execution_count": 36,
   "id": "3e1997e9",
   "metadata": {},
   "outputs": [],
   "source": [
    "def average(cols):\n",
    "    avearge = clean_df.groupby('Brands')[cols].mean()\n",
    "    plt.figure(figsize=(10,6))\n",
    "    avearge.plot(kind='bar')\n",
    "    plt.title('Average of Brands 'f'{cols}')\n",
    "    plt.xlabel('Brands')\n",
    "    plt.ylabel(f'{cols}')\n",
    "    plt.show()"
   ]
  },
  {
   "cell_type": "code",
   "execution_count": 37,
   "id": "d93167fa",
   "metadata": {},
   "outputs": [
    {
     "data": {
      "image/png": "[encoded data removed]",
      "text/plain": [
       "<Figure size 720x432 with 1 Axes>"
      ]
     },
     "metadata": {
      "needs_background": "light"
     },
     "output_type": "display_data"
    }
   ],
   "source": [
    "average('price')"
   ]
  },
  {
   "cell_type": "code",
   "execution_count": 38,
   "id": "228a264f",
   "metadata": {},
   "outputs": [
    {
     "data": {
      "image/png": "[encoded data removed]",
      "text/plain": [
       "<Figure size 720x432 with 1 Axes>"
      ]
     },
     "metadata": {
      "needs_background": "light"
     },
     "output_type": "display_data"
    }
   ],
   "source": [
    "average('ratings')"
   ]
  },
  {
   "cell_type": "code",
   "execution_count": 44,
   "id": "fa4e241b",
   "metadata": {},
   "outputs": [],
   "source": [
    "def recommed_devices(prefrered_brand,prefrered_sytem,min_price,max_price):\n",
    "    df_filtered =  clean_df[\n",
    "        (clean_df['Brands']==prefrered_brand)&\n",
    "        (clean_df['System']==prefrered_sytem)&\n",
    "        (clean_df['price']>=min_price)&\n",
    "        (clean_df['price']<=max_price)\n",
    "    ]\n",
    "    if df_filtered.empty:\n",
    "        df_filtered = clean_df[\n",
    "            (clean_df['Brands']==prefrered_brand)&\n",
    "            (clean_df['price']>=min_price)&\n",
    "            (clean_df['price']<= max_price)\n",
    "        ]\n",
    "        \n",
    "    if df_filtered.empty:\n",
    "        df_filtered = clean_df[\n",
    "            (clean_df['price']>=min_price)&\n",
    "            (clean_df['price']<=max_price)\n",
    "        ]\n",
    "    recoommendation = df_filtered.sort_values(by='ratings', ascending=False).head(5)\n",
    "\n",
    "    return recoommendation\n",
    "\n"
   ]
  },
  {
   "cell_type": "code",
   "execution_count": 45,
   "id": "6339c91d",
   "metadata": {},
   "outputs": [
    {
     "data": {
      "text/html": [
       "<div>\n",
       "<style scoped>\n",
       "    .dataframe tbody tr th:only-of-type {\n",
       "        vertical-align: middle;\n",
       "    }\n",
       "\n",
       "    .dataframe tbody tr th {\n",
       "        vertical-align: top;\n",
       "    }\n",
       "\n",
       "    .dataframe thead th {\n",
       "        text-align: right;\n",
       "    }\n",
       "</style>\n",
       "<table border=\"1\" class=\"dataframe\">\n",
       "  <thead>\n",
       "    <tr style=\"text-align: right;\">\n",
       "      <th></th>\n",
       "      <th>name</th>\n",
       "      <th>ratings</th>\n",
       "      <th>price</th>\n",
       "      <th>imgURL</th>\n",
       "      <th>corpus</th>\n",
       "      <th>Storage</th>\n",
       "      <th>RAM</th>\n",
       "      <th>System</th>\n",
       "      <th>Processor</th>\n",
       "      <th>Brans</th>\n",
       "      <th>Brands</th>\n",
       "    </tr>\n",
       "  </thead>\n",
       "  <tbody>\n",
       "    <tr>\n",
       "      <th>1128</th>\n",
       "      <td>OPPO Find X (Glacier Blue, 256 GB)</td>\n",
       "      <td>4.4</td>\n",
       "      <td>60990</td>\n",
       "      <td>https://rukminim2.flixcart.com/image/312/312/j...</td>\n",
       "      <td>Storage256 GBRAM8  SystemAndroid Oreo 8.1.0Pro...</td>\n",
       "      <td>256.0</td>\n",
       "      <td>8.0</td>\n",
       "      <td>android</td>\n",
       "      <td>other</td>\n",
       "      <td>OPPO</td>\n",
       "      <td>OPPO</td>\n",
       "    </tr>\n",
       "    <tr>\n",
       "      <th>297</th>\n",
       "      <td>OPPO Reno10 Pro+ 5G (Silvery Grey, 256 GB)</td>\n",
       "      <td>4.6</td>\n",
       "      <td>54999</td>\n",
       "      <td>https://rukminim2.flixcart.com/image/312/312/x...</td>\n",
       "      <td>Storage256 GBRAM12  SystemAndroid 13Processor ...</td>\n",
       "      <td>256.0</td>\n",
       "      <td>12.0</td>\n",
       "      <td>android</td>\n",
       "      <td>other</td>\n",
       "      <td>OPPO</td>\n",
       "      <td>OPPO</td>\n",
       "    </tr>\n",
       "    <tr>\n",
       "      <th>1633</th>\n",
       "      <td>OPPO Reno10 Pro+ 5G (Glossy Purple, 256 GB)</td>\n",
       "      <td>4.6</td>\n",
       "      <td>54999</td>\n",
       "      <td>https://rukminim2.flixcart.com/image/312/312/x...</td>\n",
       "      <td>Storage256 GBRAM12  SystemAndroid 13Processor ...</td>\n",
       "      <td>256.0</td>\n",
       "      <td>12.0</td>\n",
       "      <td>android</td>\n",
       "      <td>other</td>\n",
       "      <td>OPPO</td>\n",
       "      <td>OPPO</td>\n",
       "    </tr>\n",
       "  </tbody>\n",
       "</table>\n",
       "</div>"
      ],
      "text/plain": [
       "                                             name  ratings  price  \\\n",
       "1128           OPPO Find X (Glacier Blue, 256 GB)      4.4  60990   \n",
       "297    OPPO Reno10 Pro+ 5G (Silvery Grey, 256 GB)      4.6  54999   \n",
       "1633  OPPO Reno10 Pro+ 5G (Glossy Purple, 256 GB)      4.6  54999   \n",
       "\n",
       "                                                 imgURL  \\\n",
       "1128  https://rukminim2.flixcart.com/image/312/312/j...   \n",
       "297   https://rukminim2.flixcart.com/image/312/312/x...   \n",
       "1633  https://rukminim2.flixcart.com/image/312/312/x...   \n",
       "\n",
       "                                                 corpus  Storage   RAM  \\\n",
       "1128  Storage256 GBRAM8  SystemAndroid Oreo 8.1.0Pro...    256.0   8.0   \n",
       "297   Storage256 GBRAM12  SystemAndroid 13Processor ...    256.0  12.0   \n",
       "1633  Storage256 GBRAM12  SystemAndroid 13Processor ...    256.0  12.0   \n",
       "\n",
       "       System Processor Brans Brands  \n",
       "1128  android     other  OPPO   OPPO  \n",
       "297   android     other  OPPO   OPPO  \n",
       "1633  android     other  OPPO   OPPO  "
      ]
     },
     "execution_count": 45,
     "metadata": {},
     "output_type": "execute_result"
    }
   ],
   "source": [
    "recommed_devices(prefrered_brand='Apple',prefrered_sytem='ios',min_price=50000,max_price=80000)"
   ]
  }
 ],
 "metadata": {
  "kernelspec": {
   "display_name": "Python 3 (ipykernel)",
   "language": "python",
   "name": "python3"
  },
  "language_info": {
   "codemirror_mode": {
    "name": "ipython",
    "version": 3
   },
   "file_extension": ".py",
   "mimetype": "text/x-python",
   "name": "python",
   "nbconvert_exporter": "python",
   "pygments_lexer": "ipython3",
   "version": "3.9.12"
  }
 },
 "nbformat": 4,
 "nbformat_minor": 5
}
